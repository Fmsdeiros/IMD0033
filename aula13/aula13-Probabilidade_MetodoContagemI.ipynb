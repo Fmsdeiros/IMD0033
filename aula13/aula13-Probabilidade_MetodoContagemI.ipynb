{
 "cells": [
  {
   "cell_type": "markdown",
   "metadata": {},
   "source": [
    "# IMD0033 - Probabilidade\n",
    "\n",
    "## Métodos de Contagem I\n",
    "\n",
    "#### Exercício 1\n",
    "\n",
    "a) Implemente uma função que conte o número de elementos em  A U B. A função deve receber como entrada dois conjuntos."
   ]
  },
  {
   "cell_type": "code",
   "execution_count": null,
   "metadata": {},
   "outputs": [],
   "source": []
  },
  {
   "cell_type": "markdown",
   "metadata": {},
   "source": [
    "b) Calcule o número de elementos nos dois conjuntos abaixo (resposta: 41):"
   ]
  },
  {
   "cell_type": "code",
   "execution_count": null,
   "metadata": {},
   "outputs": [],
   "source": []
  },
  {
   "cell_type": "markdown",
   "metadata": {},
   "source": [
    "#### Exercício 2\n",
    "a) Implemente uma função que conte o número de elementos em um intervalo de números de m a n. Sua função deve receber \"m\" e \"n\"."
   ]
  },
  {
   "cell_type": "code",
   "execution_count": null,
   "metadata": {},
   "outputs": [],
   "source": []
  },
  {
   "cell_type": "markdown",
   "metadata": {},
   "source": [
    "b) Calcule quantos elementos estão presentes no intervalo entre 3259 a 23095 (resposta: 19837):"
   ]
  },
  {
   "cell_type": "code",
   "execution_count": null,
   "metadata": {},
   "outputs": [],
   "source": []
  },
  {
   "cell_type": "markdown",
   "metadata": {},
   "source": [
    "#### Exercício 3\n",
    "\n",
    "a) Implemente uma função que conte o número de múltiplos de d em um intervalo de 1 a n. Sua função deve receber \"d\" e \"n\""
   ]
  },
  {
   "cell_type": "code",
   "execution_count": null,
   "metadata": {},
   "outputs": [],
   "source": []
  },
  {
   "cell_type": "markdown",
   "metadata": {},
   "source": [
    "b) Quantos números são múltiplos de 7 no intervalo de 1 a 1000? (resposta: 142)"
   ]
  },
  {
   "cell_type": "code",
   "execution_count": null,
   "metadata": {},
   "outputs": [],
   "source": []
  },
  {
   "cell_type": "markdown",
   "metadata": {},
   "source": [
    "c) Quantos números são múltiplos de 7 no intervalo de 547 a 1000? (resposta: 64)"
   ]
  },
  {
   "cell_type": "code",
   "execution_count": null,
   "metadata": {},
   "outputs": [],
   "source": []
  },
  {
   "cell_type": "markdown",
   "metadata": {},
   "source": [
    "d) Quantos números de 1 a 1000 não são múltiplos de 3 e 7? (resposta: 572)"
   ]
  },
  {
   "cell_type": "code",
   "execution_count": null,
   "metadata": {},
   "outputs": [],
   "source": []
  },
  {
   "cell_type": "markdown",
   "metadata": {},
   "source": [
    "#### Exercício 4\n",
    "\n",
    "Em uma sala de aula, 80% passaram na prova de Português, 85% passaram na prova de Matemática e 75% passaram nas duas provas.  Se o número de alunos que não passaram foi 40, qual é o número total de alunos? (resposta: 400)\n",
    "\n"
   ]
  },
  {
   "cell_type": "code",
   "execution_count": null,
   "metadata": {},
   "outputs": [],
   "source": []
  },
  {
   "cell_type": "markdown",
   "metadata": {},
   "source": [
    "#### Exercício 5\n",
    "\n",
    "a) Suponha que no Subway você tenha opções de escolher entre 4 pães, 5 carnes, 3 queijos, 4 vegetais, e 3 molhos. A partir disso, quantos sanduíches diferentes você consegue montar escolhendo apenas um item de cada categoria? (Resposta: 720)"
   ]
  },
  {
   "cell_type": "code",
   "execution_count": null,
   "metadata": {},
   "outputs": [],
   "source": []
  },
  {
   "cell_type": "markdown",
   "metadata": {},
   "source": [
    "b) Se você gosta de apenas um tipo de queijo, quantos sanduíches diferentes você consegue montar? (Resposta: 240)"
   ]
  },
  {
   "cell_type": "code",
   "execution_count": null,
   "metadata": {},
   "outputs": [],
   "source": []
  }
 ],
 "metadata": {
  "kernelspec": {
   "display_name": "Python 3",
   "language": "python",
   "name": "python3"
  },
  "language_info": {
   "codemirror_mode": {
    "name": "ipython",
    "version": 3
   },
   "file_extension": ".py",
   "mimetype": "text/x-python",
   "name": "python",
   "nbconvert_exporter": "python",
   "pygments_lexer": "ipython3",
   "version": "3.6.5"
  }
 },
 "nbformat": 4,
 "nbformat_minor": 2
}

{
 "cells": [
  {
   "cell_type": "markdown",
   "metadata": {},
   "source": [
    "# IMD0033 - Probabilidade\n",
    "\n",
    "## Métodos de Contagem I\n",
    "\n",
    "#### Exercício 1\n",
    "\n",
    "a) Implemente uma função que conte o número de elementos em  A U B. A função deve receber como entrada dois conjuntos."
   ]
  },
  {
   "cell_type": "code",
   "execution_count": 1,
   "metadata": {},
   "outputs": [],
   "source": [
    "def somaCount(A, B):\n",
    "    count = len(A) + len(B) - len(A & B)\n",
    "    return count"
   ]
  },
  {
   "cell_type": "markdown",
   "metadata": {},
   "source": [
    "b) Calcule o número de elementos nos dois conjuntos abaixo (resposta: 41):"
   ]
  },
  {
   "cell_type": "code",
   "execution_count": 2,
   "metadata": {},
   "outputs": [
    {
     "data": {
      "text/plain": [
       "41"
      ]
     },
     "execution_count": 2,
     "metadata": {},
     "output_type": "execute_result"
    }
   ],
   "source": [
    "A = {10,15,34,17,23,18,32,25,0,19,44,48,41,27,23,3,48,44,17,10,41,14,20,16,30,4,20,15,21,30,27,9,12,2,24,5,47,7,24,17}\n",
    "B = {47,38,5,6,12,15,32,25,48,26,11,6,28,38,42,19,0,36,13,43,12,31,13,37,27,48,2,27,16,12,37,38,48,40,30,40,35}\n",
    "\n",
    "somaCount(A,B)"
   ]
  },
  {
   "cell_type": "markdown",
   "metadata": {},
   "source": [
    "#### Exercício 2\n",
    "a) Implemente uma função que conte o número de elementos em um intervalo de números de m a n. Sua função deve receber \"m\" e \"n\"."
   ]
  },
  {
   "cell_type": "code",
   "execution_count": 3,
   "metadata": {},
   "outputs": [],
   "source": [
    "def intercount(m, n):\n",
    "    return n - m + 1"
   ]
  },
  {
   "cell_type": "markdown",
   "metadata": {},
   "source": [
    "b) Calcule quantos elementos estão presentes no intervalo entre 3259 a 23095 (resposta: 19837):"
   ]
  },
  {
   "cell_type": "code",
   "execution_count": 4,
   "metadata": {},
   "outputs": [
    {
     "name": "stdout",
     "output_type": "stream",
     "text": [
      "19837\n"
     ]
    }
   ],
   "source": [
    "print(intercount(3259,23095))"
   ]
  },
  {
   "cell_type": "markdown",
   "metadata": {},
   "source": [
    "#### Exercício 3\n",
    "\n",
    "a) Implemente uma função que conte o número de múltiplos de d em um intervalo de 1 a n. Sua função deve receber \"d\" e \"n\""
   ]
  },
  {
   "cell_type": "code",
   "execution_count": 5,
   "metadata": {},
   "outputs": [],
   "source": [
    "def divcount(d, n):\n",
    "    return int(n/d)"
   ]
  },
  {
   "cell_type": "markdown",
   "metadata": {},
   "source": [
    "b) Quantos números são múltiplos de 7 no intervalo de 1 a 1000? (resposta: 142)"
   ]
  },
  {
   "cell_type": "code",
   "execution_count": 6,
   "metadata": {},
   "outputs": [
    {
     "name": "stdout",
     "output_type": "stream",
     "text": [
      "142\n"
     ]
    }
   ],
   "source": [
    "print(divcount(7,1000))"
   ]
  },
  {
   "cell_type": "markdown",
   "metadata": {},
   "source": [
    "c) Quantos números são múltiplos de 7 no intervalo de 547 a 1000? (resposta: 64)"
   ]
  },
  {
   "cell_type": "code",
   "execution_count": 7,
   "metadata": {},
   "outputs": [
    {
     "name": "stdout",
     "output_type": "stream",
     "text": [
      "64\n"
     ]
    }
   ],
   "source": [
    "print(divcount(7,1000) - divcount(7,547))"
   ]
  },
  {
   "cell_type": "markdown",
   "metadata": {},
   "source": [
    "d) Quantos números de 1 a 1000 não são múltiplos de 3 e 7? (resposta: 572)"
   ]
  },
  {
   "cell_type": "code",
   "execution_count": 8,
   "metadata": {},
   "outputs": [
    {
     "name": "stdout",
     "output_type": "stream",
     "text": [
      "572\n"
     ]
    }
   ],
   "source": [
    "print (1000 - (divcount(3,1000)+divcount(7,1000)-divcount(21,1000)))"
   ]
  },
  {
   "cell_type": "markdown",
   "metadata": {},
   "source": [
    "#### Exercício 4\n",
    "\n",
    "Em uma sala de aula, 80% passaram na prova de Português, 85% passaram na prova de Matemática e 75% passaram nas duas provas.  Se o número de alunos que não passaram foi 40, qual é o número total de alunos? (resposta: 400)\n",
    "\n"
   ]
  },
  {
   "cell_type": "code",
   "execution_count": 9,
   "metadata": {},
   "outputs": [],
   "source": [
    "# total = X\n",
    "# total = |(A | B)^c| + |(A | B)|\n",
    "# X = 40 + |A| + |B| - |A & B|\n",
    "# X = 40 + 0.8X + 0.85X - 0.75X\n",
    "# X = 400"
   ]
  },
  {
   "cell_type": "markdown",
   "metadata": {},
   "source": [
    "#### Exercício 5\n",
    "\n",
    "a) Suponha que no Subway você tenha opções de escolher entre 4 pães, 5 carnes, 3 queijos, 4 vegetais, e 3 molhos. A partir disso, quantos sanduíches diferentes você consegue montar escolhendo apenas um item de cada categoria? (Resposta: 720)"
   ]
  },
  {
   "cell_type": "code",
   "execution_count": 10,
   "metadata": {},
   "outputs": [
    {
     "name": "stdout",
     "output_type": "stream",
     "text": [
      "720\n"
     ]
    }
   ],
   "source": [
    "print(4*5*3*4*3)"
   ]
  },
  {
   "cell_type": "markdown",
   "metadata": {},
   "source": [
    "b) Se você gosta de apenas um tipo de queijo, quantos sanduíches diferentes você consegue montar? (Resposta: 240)"
   ]
  },
  {
   "cell_type": "code",
   "execution_count": 11,
   "metadata": {},
   "outputs": [
    {
     "name": "stdout",
     "output_type": "stream",
     "text": [
      "240\n"
     ]
    }
   ],
   "source": [
    "print(4*5*1*4*3)"
   ]
  }
 ],
 "metadata": {
  "kernelspec": {
   "display_name": "Python 3",
   "language": "python",
   "name": "python3"
  },
  "language_info": {
   "codemirror_mode": {
    "name": "ipython",
    "version": 3
   },
   "file_extension": ".py",
   "mimetype": "text/x-python",
   "name": "python",
   "nbconvert_exporter": "python",
   "pygments_lexer": "ipython3",
   "version": "3.6.5"
  }
 },
 "nbformat": 4,
 "nbformat_minor": 2
}

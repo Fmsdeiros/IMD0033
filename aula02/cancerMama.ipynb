{
 "cells": [
  {
   "cell_type": "markdown",
   "metadata": {},
   "source": [
    "## Formatando os dados de Câncer de mama\n",
    "\n",
    "Nesta aula obtivemos uma noção de como programar em Python e realizamos um exercício para calcular a média e o desvio padrão de uma lista de números. Neste notebook, apresento como vocês poderiam extrair os dados de um arquivo e realizar estes cálculos em larga escala.\n",
    "\n",
    "Os dados do câncer de mama estão disponíveis neste [link](https://archive.ics.uci.edu/ml/machine-learning-databases/breast-cancer-wisconsin/wdbc.data).\n",
    "\n",
    "A descrição de cada coluna destes dados está disponível neste [link](https://archive.ics.uci.edu/ml/machine-learning-databases/breast-cancer-wisconsin/wdbc.names)\n",
    "\n",
    "## O código\n",
    "Definindo as funções de média e de desvio padrão:"
   ]
  },
  {
   "cell_type": "code",
   "execution_count": null,
   "metadata": {},
   "outputs": [],
   "source": [
    "# função da média\n",
    "def mean(list):\n",
    "    sum = 0\n",
    "    for val in list:\n",
    "        sum += val\n",
    "    return (sum/(len(list)))\n",
    "\n",
    "# função do desvio padrão\n",
    "def sd(list):\n",
    "    sum = 0\n",
    "    for val in list:\n",
    "        sum += val\n",
    "    mean = sum/(len(list))\n",
    "    sumSqrDiff = 0\n",
    "    for val in list:\n",
    "        sumSqrDiff += (val - mean)**2\n",
    "    return((sumSqrDiff/(len(list) - 1))**0.5)"
   ]
  },
  {
   "cell_type": "markdown",
   "metadata": {},
   "source": [
    "Lendo e organizando os dados do arquivo:"
   ]
  },
  {
   "cell_type": "code",
   "execution_count": null,
   "metadata": {},
   "outputs": [],
   "source": [
    "# leitura do arquivo\n",
    "f = open(\"wdbc.data\", \"r\")\n",
    "data = f.read()\n",
    "rows = data.split(\"\\n\")\n",
    "\n",
    "table = {}       # Dicionário que armazenará os dados\n",
    "                 # table = { <M> : \n",
    "                 #              { <col1> : [valores],\n",
    "                 #                <col2> : [valores],\n",
    "                 #                ...\n",
    "                 #              },\n",
    "                 #           <B> :\n",
    "                 #              { <col1> : [valores],\n",
    "                 #                <col2> : [valores],\n",
    "                 #         }\n",
    "cancerList = []  # Lista com os tipos de câncer\n",
    "columnList = []  # Lista com as colunas\n",
    "\n",
    "# organizando os dados\n",
    "for row in rows:\n",
    "    cells = row.split(\",\") # separa cada valor por \",\"\n",
    "    \n",
    "    # pule se a linha estiver vazia\n",
    "    if not row:\n",
    "        continue\n",
    "    \n",
    "    cancer = cells[1] # pega o tipo de câncer (M ou B)\n",
    "    \n",
    "    # Cria uma chave com o tipo de câncer se não existir\n",
    "    if cancer not in table:\n",
    "        table[cancer] = {}\n",
    "        cancerList.append(cancer)\n",
    "        \n",
    "    # armazena os valores em \"table\"\n",
    "    for y in range(2,len(cells)):\n",
    "        column = \"col\" + str(y - 1)\n",
    "        \n",
    "        # cria a chave com a coluna se não existir\n",
    "        if column not in table[cancer]:\n",
    "            table[cancer][column] = []\n",
    "            \n",
    "            # armazena o nome da coluna em \"columnList\" se não existir\n",
    "            if column not in columnList:\n",
    "                columnList.append(column)\n",
    "        \n",
    "        # adiciona o valor em seu respectivo local em \"table\"\n",
    "        table[cancer][column].append(float(cells[y]))"
   ]
  },
  {
   "cell_type": "markdown",
   "metadata": {},
   "source": [
    "Calculando a média e o desvio padrão para cada coluna e categoria"
   ]
  },
  {
   "cell_type": "code",
   "execution_count": null,
   "metadata": {},
   "outputs": [],
   "source": [
    "result = {} # Dicionário que armazena os dados de média e desvio padrão\n",
    "            # result = { <col1> : {\n",
    "            #                       \"M\" : {\n",
    "            #                               \"mean\": mean,\n",
    "            #                               \"sd\" : sd\n",
    "            #                              },\n",
    "            #                       \"B\" : {\n",
    "            #                               \"mean\": mean,\n",
    "            #                               \"sd\" : sd\n",
    "            #                              }\n",
    "            #                     },\n",
    "            #            <col2> : ...\n",
    "            #          }\n",
    "            \n",
    "for cancer in cancerList:\n",
    "    for column in columnList:\n",
    "        list = []\n",
    "        \n",
    "        # cria uma chave correspondene a coluna em \"result\"\n",
    "        if column not in result:\n",
    "            result[column] = {}\n",
    "        if cancer not in result[column]:\n",
    "            result[column][cancer] = { \"mean\": 0, \"sd\": 0}\n",
    "        result[column][cancer][\"mean\"] = mean(table[cancer][column])\n",
    "        result[column][cancer][\"sd\"] = sd(table[cancer][column])"
   ]
  },
  {
   "cell_type": "markdown",
   "metadata": {},
   "source": [
    "Imprimindo os resultados"
   ]
  },
  {
   "cell_type": "code",
   "execution_count": null,
   "metadata": {},
   "outputs": [],
   "source": [
    "for column in columnList:\n",
    "    print(column, end=\"\")\n",
    "    for cancer in cancerList:\n",
    "        print( \"\\t%.2f\\t%.2f\" % (result[column][cancer][\"mean\"],result[column][cancer][\"sd\"]), end=\"\")\n",
    "    print()"
   ]
  },
  {
   "cell_type": "code",
   "execution_count": null,
   "metadata": {},
   "outputs": [],
   "source": []
  }
 ],
 "metadata": {
  "kernelspec": {
   "display_name": "Python 3",
   "language": "python",
   "name": "python3"
  },
  "language_info": {
   "codemirror_mode": {
    "name": "ipython",
    "version": 3
   },
   "file_extension": ".py",
   "mimetype": "text/x-python",
   "name": "python",
   "nbconvert_exporter": "python",
   "pygments_lexer": "ipython3",
   "version": "3.6.5"
  }
 },
 "nbformat": 4,
 "nbformat_minor": 2
}

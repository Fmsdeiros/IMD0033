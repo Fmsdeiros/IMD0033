{
 "cells": [
  {
   "cell_type": "markdown",
   "metadata": {},
   "source": [
    "# IMD0033 - Probabilidade\n",
    "\n",
    "## Permutação\n",
    "\n",
    "#### Exercício 1\n",
    "\n",
    "a) Crie uma função que retorne fatorial de um número. A função deve receber um número que se quer fatorar."
   ]
  },
  {
   "cell_type": "code",
   "execution_count": 17,
   "metadata": {},
   "outputs": [],
   "source": [
    "def fatorial(n):\n",
    "    result = 1;\n",
    "    if (n > 0):\n",
    "        for i in range(n):\n",
    "            result *= i+1\n",
    "    return result"
   ]
  },
  {
   "cell_type": "markdown",
   "metadata": {},
   "source": [
    "b) Crie uma função que retorne o resultado de uma permutação parcial. A função deve receber um número que se quer fatorar (n) e o limite da fatoração (k)"
   ]
  },
  {
   "cell_type": "code",
   "execution_count": 19,
   "metadata": {},
   "outputs": [],
   "source": [
    "def pfatorial(n, k):\n",
    "    return (fatorial(n)/fatorial(n-k))"
   ]
  },
  {
   "cell_type": "markdown",
   "metadata": {},
   "source": [
    "#### Exercício 2\n",
    "\n",
    "Suponha que você quer enfileirar 5 crianças, 3 meninos e 2 meninas. Responda:\n",
    "\n",
    "a) Quantas maneiras diferentes podemos ordenar as crianças? (Resposta: 120)"
   ]
  },
  {
   "cell_type": "code",
   "execution_count": 9,
   "metadata": {},
   "outputs": [
    {
     "name": "stdout",
     "output_type": "stream",
     "text": [
      "120\n"
     ]
    }
   ],
   "source": [
    "print(fatorial(5))"
   ]
  },
  {
   "cell_type": "markdown",
   "metadata": {},
   "source": [
    "b) Quantas maneiras diferentes podemos ordenar as crianças alternando entre meninos e meninas? (Resposta: 12)"
   ]
  },
  {
   "cell_type": "code",
   "execution_count": 10,
   "metadata": {},
   "outputs": [
    {
     "name": "stdout",
     "output_type": "stream",
     "text": [
      "12\n"
     ]
    }
   ],
   "source": [
    "print(fatorial(3)*fatorial(2))"
   ]
  },
  {
   "cell_type": "markdown",
   "metadata": {},
   "source": [
    "c) Quantas maneiras diferentes podemos ordenar as crianças de forma que os meninos fiquem juntos e meninas fiquem juntas? (Resposta: 24)"
   ]
  },
  {
   "cell_type": "code",
   "execution_count": 11,
   "metadata": {},
   "outputs": [
    {
     "name": "stdout",
     "output_type": "stream",
     "text": [
      "24\n"
     ]
    }
   ],
   "source": [
    "print(2*fatorial(3)*fatorial(2))"
   ]
  },
  {
   "cell_type": "markdown",
   "metadata": {},
   "source": [
    "d) Quantas maneiras diferentes podemos ordenar as crianças sem considerar a orientação (direita, esquerda)? (Resposta: 60)"
   ]
  },
  {
   "cell_type": "code",
   "execution_count": 12,
   "metadata": {},
   "outputs": [
    {
     "name": "stdout",
     "output_type": "stream",
     "text": [
      "60.0\n"
     ]
    }
   ],
   "source": [
    "print(fatorial(5)/2)"
   ]
  },
  {
   "cell_type": "markdown",
   "metadata": {},
   "source": [
    "#### Exercício 3\n",
    "\n",
    "Considere 5 pessoas que irão sentar em uma mesa redonda com cinco cadeiras fixas. Quantas maneiras diferentes podemos dispor as pessoas se:\n",
    "\n",
    "a) a rotação das pessoas importa no cálculo. (Resposta: 120)"
   ]
  },
  {
   "cell_type": "code",
   "execution_count": 14,
   "metadata": {},
   "outputs": [
    {
     "name": "stdout",
     "output_type": "stream",
     "text": [
      "120\n"
     ]
    }
   ],
   "source": [
    "print(fatorial(5))"
   ]
  },
  {
   "cell_type": "markdown",
   "metadata": {},
   "source": [
    "b) a rotação das pessoas não importa no cálculo. (Resposta: 24)"
   ]
  },
  {
   "cell_type": "code",
   "execution_count": 13,
   "metadata": {},
   "outputs": [
    {
     "name": "stdout",
     "output_type": "stream",
     "text": [
      "24.0\n"
     ]
    }
   ],
   "source": [
    "print(fatorial(5)/5)"
   ]
  },
  {
   "cell_type": "markdown",
   "metadata": {},
   "source": [
    "#### Exercício 4\n",
    "\n",
    "Suponhamos que você tenha 4 livros de programação, 5 livros de estatística e 6 livros de aprendizagem de máquina. Quantas formas diferentes você pode ordenar 2 livros de cada tópico, colocando sempre os livros de mesmo tópico lado a lado? (Resposta: 43200)"
   ]
  },
  {
   "cell_type": "code",
   "execution_count": 20,
   "metadata": {},
   "outputs": [
    {
     "name": "stdout",
     "output_type": "stream",
     "text": [
      "43200.0\n"
     ]
    }
   ],
   "source": [
    "print(fatorial(3)*pfatorial(4,2)*pfatorial(5,2)*pfatorial(6,2))"
   ]
  },
  {
   "cell_type": "code",
   "execution_count": null,
   "metadata": {},
   "outputs": [],
   "source": []
  }
 ],
 "metadata": {
  "kernelspec": {
   "display_name": "Python 3",
   "language": "python",
   "name": "python3"
  },
  "language_info": {
   "codemirror_mode": {
    "name": "ipython",
    "version": 3
   },
   "file_extension": ".py",
   "mimetype": "text/x-python",
   "name": "python",
   "nbconvert_exporter": "python",
   "pygments_lexer": "ipython3",
   "version": "3.6.5"
  }
 },
 "nbformat": 4,
 "nbformat_minor": 2
}

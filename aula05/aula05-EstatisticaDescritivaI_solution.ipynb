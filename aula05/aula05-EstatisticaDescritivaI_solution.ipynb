{
 "cells": [
  {
   "cell_type": "markdown",
   "metadata": {},
   "source": [
    "# Estatística Descritiva - parte I\n",
    "\n",
    "## Introdução à métodos de pesquisa científica\n",
    "\n",
    "Antes de realizar qualquer atividade que visa a obtenção ou análise de dados para o estudo de um determinado fenômeno ou comportamento, o cientista deve primeiro focar no planejamento do experimento. Experimentos não muito bem planejados pode gerar não só dores de cabeças ao longo da execução do projeto, mas também conclusões equivocadas sobre um determinado assunto em estudo.\n",
    "\n",
    "Nesta aula, abordaremos alguns aspectos sobre os métodos de pesquisa científica."
   ]
  },
  {
   "cell_type": "code",
   "execution_count": 1,
   "metadata": {},
   "outputs": [],
   "source": [
    "import numpy as np\n",
    "import matplotlib.pyplot as plt"
   ]
  },
  {
   "cell_type": "markdown",
   "metadata": {},
   "source": [
    "Abaixo temos uma lista (em numpy) onde cada elemento corresponde a um indivíduo, e seus valores correspondem ao candidato na qual cada indivíduo possui a inteção de votar."
   ]
  },
  {
   "cell_type": "code",
   "execution_count": 2,
   "metadata": {},
   "outputs": [],
   "source": [
    "eleitores = np.array([\n",
    "2,2,2,2,3,1,2,3,2,2,2,3,1,3,4,4,4,4,4,1,1,1,2,4,3,1,3,1,1,3,4,4,3,1,1,1,2,3,1,4,3,2,4,4,1,1,4,2,3,1,\n",
    "3,1,3,3,1,1,2,1,1,1,2,2,2,1,1,2,2,2,2,2,1,2,1,1,2,1,1,1,1,2,2,2,2,2,2,2,2,2,2,2,2,2,2,2,2,2,2,2,2,2,\n",
    "2,1,3,2,1,3,4,3,3,4,4,4,4,4,3,2,2,2,4,4,2,4,4,4,4,3,2,4,3,3,2,3,4,2,3,2,4,4,2,4,3,4,2,3,4,2,3,3,3,3,\n",
    "3,2,2,3,2,3,3,4,2,3,3,2,3,4,2,3,3,2,3,3,2,3,2,4,2,3,3,4,4,4,2,4,4,4,4,4,2,2,2,2,2,2,2,2,2,2,2,2,2,2,\n",
    "4,3,4,3,1,2,2,4,2,4,3,4,3,4,3,4,4,4,4,1,1,4,2,1,4,2,3,3,2,4,2,2,4,2,3,3,4,3,3,3,3,4,2,2,4,4,3,2,2,2,\n",
    "4,2,4,4,2,2,4,4,4,4,4,4,4,4,4,4,4,4,4,4,4,4,4,4,4,4,4,4,4,4,4,4,4,4,4,4,4,4,4,4,4,4,4,4,4,4,4,4,4,4,\n",
    "1,4,4,2,2,1,2,1,2,3,2,3,2,1,3,3,1,2,3,1,3,3,2,1,1,2,2,1,3,2,1,2,3,3,1,3,1,1,2,3,1,3,1,1,2,1,1,3,1,3,\n",
    "1,2,3,1,1,3,3,2,3,1,2,3,1,3,1,1,2,2,3,3,1,1,1,1,3,1,3,3,3,1,3,1,3,3,1,1,3,3,1,3,1,1,3,1,1,1,1,1,1,1,\n",
    "1,1,4,3,4,1,2,4,2,2,2,3,2,1,1,4,1,1,3,3,3,3,3,2,2,3,3,1,1,4,3,3,2,4,1,1,2,3,3,1,1,2,2,1,3,4,4,2,3,1,\n",
    "3,1,3,1,3,1,2,2,2,2,3,3,1,3,3,1,2,1,1,2,1,1,1,3,3,3,3,1,3,3,3,1,3,1,3,1,3,3,3,1,1,3,3,3,3,3,3,3,3,3,\n",
    "3,2,1,4,4,3,2,2,2,3,3,3,2,1,3,2,2,3,1,2,3,1,3,3,2,2,2,3,2,3,3,2,3,3,3,3,2,3,3,3,2,3,3,3,3,3,3,3,3,2,\n",
    "2,2,2,2,2,2,2,2,2,2,3,3,3,3,3,3,2,3,2,2,3,3,3,3,2,3,3,2,2,2,2,2,2,2,2,2,2,2,2,2,2,2,2,2,2,2,2,2,2,2,\n",
    "3,1,1,3,2,4,3,4,4,4,4,2,1,1,1,4,3,1,1,3,4,1,3,4,1,3,3,3,1,2,3,1,1,3,2,2,2,1,2,1,1,2,2,2,1,1,1,1,1,2,\n",
    "1,2,2,1,1,1,1,2,2,1,1,1,1,1,1,1,1,1,1,1,1,1,1,1,1,1,1,1,1,1,1,1,1,1,1,1,1,1,1,1,1,1,1,1,1,1,1,1,1,1,\n",
    "3,3,4,3,3,1,1,1,1,3,1,1,2,4,4,1,2,1,4,1,4,2,4,2,4,2,2,1,1,1,4,1,1,4,2,4,4,2,4,1,1,2,2,2,2,2,2,2,2,2,\n",
    "2,2,2,2,2,2,2,2,2,2,2,2,2,2,2,2,2,2,2,2,2,2,2,2,2,2,2,2,2,2,2,2,2,2,2,2,2,2,2,2,2,2,2,2,2,2,2,2,2,2,\n",
    "4,4,4,4,2,3,2,1,1,3,3,3,1,3,3,1,1,1,1,1,1,3,1,3,1,1,3,1,3,1,1,1,1,1,1,1,1,1,1,1,1,1,1,1,1,1,1,1,1,1,\n",
    "1,1,1,1,1,1,1,1,1,1,1,1,1,1,1,1,1,1,1,1,1,1,1,1,1,1,1,1,1,1,1,1,1,1,1,1,1,1,1,1,1,1,1,1,1,1,1,1,1,1,\n",
    "2,3,4,2,4,1,2,1,3,2,1,2,2,3,4,4,2,2,1,2,1,1,2,2,2,3,1,3,1,3,2,2,3,3,3,2,3,3,2,3,3,3,2,3,2,2,2,2,2,2,\n",
    "2,2,2,2,2,2,2,2,2,2,2,2,2,2,2,2,2,2,2,2,2,2,2,2,2,2,2,2,2,2,2,2,2,2,2,2,2,2,2,2,2,2,2,2,2,2,2,2,2,2,\n",
    "4,4,1,1,2,2,3,2,1,4,4,4,3,4,3,1,3,3,3,3,3,3,1,2,3,2,1,1,1,3,2,1,2,2,3,3,3,3,3,3,1,2,1,2,1,3,2,2,3,2,\n",
    "3,1,3,1,2,2,1,2,1,1,2,2,2,1,2,1,2,2,2,2,2,2,2,2,2,2,2,2,2,2,2,2,2,2,2,2,2,2,2,2,2,2,2,2,2,2,2,2,2,2,\n",
    "4,1,1,3,1,1,1,1,4,2,4,4,2,1,3,1,2,4,3,3,1,1,3,3,1,1,4,2,3,4,1,2,3,3,3,3,3,4,4,3,2,3,3,2,2,2,2,2,2,4,\n",
    "4,3,2,3,2,2,2,4,4,4,4,3,3,3,2,2,2,2,3,2,2,3,2,2,2,3,3,3,3,3,3,2,2,3,2,2,3,3,3,3,3,3,3,3,3,3,3,3,3,3,\n",
    "4,2,2,1,2,2,1,2,3,1,1,3,2,2,1,3,2,3,2,2,2,2,3,2,3,3,2,1,1,1,2,1,2,2,2,1,2,1,2,2,2,2,2,1,1,2,2,2,1,2,\n",
    "1,1,1,1,1,2,2,2,2,1,1,1,2,1,2,2,1,1,2,2,2,1,1,1,2,1,1,1,1,1,1,1,1,1,1,1,1,1,1,1,1,1,1,1,1,1,1,1,1,1,\n",
    "4,4,3,3,1,3,2,1,2,1,1,2,2,2,2,2,1,2,1,1,1,1,2,1,2,2,2,2,2,2,1,1,2,1,1,1,2,1,2,1,1,2,2,1,1,1,1,2,1,1,\n",
    "2,1,2,2,2,2,2,2,2,2,1,1,2,1,1,2,2,2,1,2,1,2,1,1,1,1,2,2,2,2,2,1,1,1,2,2,2,2,2,1,2,1,2,1,2,2,1,1,2,2,\n",
    "3,4,1,3,3,3,3,3,1,3,2,2,3,2,1,2,3,2,3,3,1,3,3,2,3,2,3,1,2,1,2,2,1,3,1,3,1,1,1,3,2,2,2,1,2,1,2,2,1,2,\n",
    "2,1,1,2,2,1,1,2,2,2,1,1,1,1,2,1,1,2,2,2,1,2,1,2,1,2,1,2,2,1,2,2,1,1,1,1,1,1,1,1,1,1,1,1,1,1,1,1,1,1,\n",
    "2,4,1,3,4,1,4,4,2,3,1,3,3,1,3,1,1,3,3,2,2,3,3,3,3,2,1,2,1,4,1,2,2,3,2,3,3,4,1,1,3,3,3,3,1,1,4,3,3,4,\n",
    "1,4,3,4,4,3,4,1,3,3,3,1,1,1,1,1,3,1,4,1,3,1,1,1,3,1,1,1,1,3,3,1,1,3,1,1,1,1,1,1,1,1,1,1,1,1,1,1,1,1,\n",
    "2,1,4,2,3,4,4,1,4,1,2,3,1,4,2,1,1,1,3,1,2,3,4,2,2,2,3,2,1,2,4,1,3,1,3,3,3,3,1,4,3,1,2,2,3,2,4,3,1,3,\n",
    "3,4,1,2,4,2,4,4,1,4,3,1,1,2,4,1,4,3,3,4,4,2,2,4,2,2,2,2,4,2,2,4,4,2,2,2,2,4,4,2,4,2,4,4,4,4,4,4,4,4,\n",
    "3,3,4,1,4,2,4,1,3,4,1,2,4,4,2,2,4,2,1,4,4,1,2,2,4,1,4,1,2,1,2,2,2,4,4,4,1,1,1,4,2,2,1,4,2,1,4,2,2,4,\n",
    "1,1,1,2,1,4,2,4,1,4,2,2,2,2,2,2,1,2,2,2,2,1,2,2,1,1,2,2,2,1,2,2,2,2,2,2,2,1,1,1,2,1,1,2,2,2,2,2,2,2,\n",
    "3,1,1,4,2,1,3,2,2,2,3,2,2,2,1,3,1,2,3,4,4,4,2,2,3,4,4,3,4,4,2,4,2,2,2,2,3,3,4,1,1,3,2,3,2,1,4,2,1,2,\n",
    "2,4,4,4,2,3,4,2,1,3,3,1,1,2,1,1,3,1,1,2,2,2,2,1,1,2,1,1,1,3,1,2,2,3,2,1,2,2,3,1,1,3,3,3,3,3,3,3,3,3,\n",
    "1,1,3,4,3,4,3,2,3,3,3,3,2,2,3,3,4,4,2,2,4,3,4,2,3,4,4,4,4,3,2,2,3,3,2,2,4,2,4,2,2,4,2,2,2,2,4,2,2,2,\n",
    "2,2,4,2,2,2,2,2,2,2,4,2,4,4,4,4,2,4,2,4,2,2,2,2,4,2,2,4,2,4,4,2,4,4,2,4,2,2,4,4,2,4,2,2,2,2,2,2,2,2])\n"
   ]
  },
  {
   "cell_type": "markdown",
   "metadata": {},
   "source": [
    "### Questão 1\n",
    "Calcule a porcentagem de inteção de votos para cada candidato na população."
   ]
  },
  {
   "cell_type": "code",
   "execution_count": 3,
   "metadata": {},
   "outputs": [
    {
     "name": "stdout",
     "output_type": "stream",
     "text": [
      "candidato 1: 0.293\n",
      "candidato 2: 0.363\n",
      "candidato 3: 0.201\n",
      "candidato 4: 0.143\n"
     ]
    },
    {
     "data": {
      "image/png": "[encoded data removed]",
      "text/plain": [
       "<Figure size 432x288 with 1 Axes>"
      ]
     },
     "metadata": {},
     "output_type": "display_data"
    }
   ],
   "source": [
    "total = eleitores.size\n",
    "cand = []\n",
    "percentage = []\n",
    "for i in range(1,5):\n",
    "    print(\"candidato %i: %.3f\" % (i, eleitores[eleitores == i].size / total))\n",
    "    cand.append(\"candidato \" + str(i))\n",
    "    percentage.append(eleitores[eleitores == i].size / total)\n",
    "\n",
    "bins = range(1,6)\n",
    "plt.hist(eleitores, bins, rwidth = 0.9)\n",
    "plt.xticks(bins)\n",
    "plt.show()"
   ]
  },
  {
   "cell_type": "markdown",
   "metadata": {},
   "source": [
    "### Questão 2\n",
    "Pegue aleatoriamente 50, 250 e 500 eleitores da lista e examine a porcentagem da inteção de votos nos dados amostrados. O que é possível perceber?"
   ]
  },
  {
   "cell_type": "code",
   "execution_count": 4,
   "metadata": {},
   "outputs": [
    {
     "data": {
      "image/png": "[encoded data removed]",
      "text/plain": [
       "<Figure size 432x288 with 1 Axes>"
      ]
     },
     "metadata": {},
     "output_type": "display_data"
    }
   ],
   "source": [
    "nEleitores = 200\n",
    "dupRand = {}\n",
    "elSample = []\n",
    "while (len(elSample) < nEleitores):\n",
    "    idx = np.random.randint(0,eleitores.size)\n",
    "    if idx in dupRand:\n",
    "        continue\n",
    "    else:\n",
    "        dupRand[idx] = 1\n",
    "        elSample.append(eleitores[idx])\n",
    "plt.hist(elSample, bins, rwidth=0.9)\n",
    "plt.show()"
   ]
  },
  {
   "cell_type": "markdown",
   "metadata": {},
   "source": [
    "### Questão 3\n",
    "Pegue 250 eleitores consecutivos (por exemplo, de 501 a 750) e análise a porcentagem de intenção de votos para cada candidato."
   ]
  },
  {
   "cell_type": "code",
   "execution_count": 5,
   "metadata": {},
   "outputs": [
    {
     "name": "stdout",
     "output_type": "stream",
     "text": [
      "250\n"
     ]
    },
    {
     "data": {
      "image/png": "[encoded data removed]",
      "text/plain": [
       "<Figure size 432x288 with 1 Axes>"
      ]
     },
     "metadata": {},
     "output_type": "display_data"
    }
   ],
   "source": [
    "first = 650\n",
    "elSample = eleitores[first:first+250]\n",
    "print(elSample.size)\n",
    "plt.hist(elSample, bins, rwidth = 0.9)\n",
    "plt.show()"
   ]
  },
  {
   "cell_type": "markdown",
   "metadata": {},
   "source": [
    "## Dormir mais ajuda a melhorar a memória?"
   ]
  },
  {
   "cell_type": "code",
   "execution_count": 6,
   "metadata": {},
   "outputs": [
    {
     "data": {
      "image/png": "[encoded data removed]",
      "text/plain": [
       "<Figure size 432x288 with 1 Axes>"
      ]
     },
     "metadata": {},
     "output_type": "display_data"
    }
   ],
   "source": [
    "hourSlept = [7,8,6,5,6,7,6.5,8.5,6.5,7]\n",
    "testScore = [86,70,56,56,70,80,72,91,81,86]\n",
    "yticks = range(0,100, 5)\n",
    "xticks = range(0,9)\n",
    "\n",
    "plt.scatter(hourSlept,testScore, marker='o', edgecolor=\"none\")\n",
    "plt.xticks(xticks)\n",
    "plt.yticks(yticks)\n",
    "plt.grid()\n",
    "plt.title(\"Does sleep influence memory?\")\n",
    "plt.xlabel(\"hours\")\n",
    "plt.ylabel(\"score\")\n",
    "plt.show()"
   ]
  },
  {
   "cell_type": "code",
   "execution_count": null,
   "metadata": {},
   "outputs": [],
   "source": []
  }
 ],
 "metadata": {
  "kernelspec": {
   "display_name": "Python 3",
   "language": "python",
   "name": "python3"
  },
  "language_info": {
   "codemirror_mode": {
    "name": "ipython",
    "version": 3
   },
   "file_extension": ".py",
   "mimetype": "text/x-python",
   "name": "python",
   "nbconvert_exporter": "python",
   "pygments_lexer": "ipython3",
   "version": "3.6.5"
  }
 },
 "nbformat": 4,
 "nbformat_minor": 2
}

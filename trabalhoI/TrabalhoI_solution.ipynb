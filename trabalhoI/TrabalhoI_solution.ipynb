{
 "cells": [
  {
   "cell_type": "markdown",
   "metadata": {},
   "source": [
    "## IMD0033 - Probabilidade\n",
    "\n",
    "# Trabalho I \n",
    "\n",
    "Este trabalho servirá como avaliação dos conteúdos relacionados a Estatística Descritiva.\n",
    "\n",
    "Data de entrega: Até 12:00 do dia 14/09\n",
    "\n",
    "Forma de entrega: Via SIGAA na forma de um jupyter notebook ou na forma de um documento em um editor de texto.\n",
    "\n",
    "### Questão 1\n",
    "\n",
    "Defina com suas palavras e de forma sucinta os termos abaixo:\n",
    "\n",
    "a) População"
   ]
  },
  {
   "cell_type": "markdown",
   "metadata": {},
   "source": [
    "Respota: Corresponde ao conjunto de TODOS os indivíduos que possuam a característica de interesse para a pesquisa ou estudo."
   ]
  },
  {
   "cell_type": "markdown",
   "metadata": {},
   "source": [
    "b) Amostra"
   ]
  },
  {
   "cell_type": "markdown",
   "metadata": {},
   "source": [
    "Respota: É o subconjunto da população."
   ]
  },
  {
   "cell_type": "markdown",
   "metadata": {},
   "source": [
    "c) Conceito (em um desenho experimental)"
   ]
  },
  {
   "cell_type": "markdown",
   "metadata": {},
   "source": [
    "Resposta: Objeto ideal, ou abstrato na qual deseja-se estudar. Exemplo: Memória."
   ]
  },
  {
   "cell_type": "markdown",
   "metadata": {},
   "source": [
    "d) Definição operacional"
   ]
  },
  {
   "cell_type": "markdown",
   "metadata": {},
   "source": [
    "Resposta: Metodologia utilizada para quantificar ou medir o conceito. Exemplo: Teste de QI para \"medir\" a memória."
   ]
  },
  {
   "cell_type": "markdown",
   "metadata": {},
   "source": [
    "e) Experimento controlado"
   ]
  },
  {
   "cell_type": "markdown",
   "metadata": {},
   "source": [
    "Resposta: Experimento utilizado para comprovar se uma determinada variável é a causa do fenômeno em estudo. Normalmente, as amostras são subdivididas em dois grupos: o grupo experimental, que recebe a ação da variável, e o grupo controle, que não recebe a ação da variável."
   ]
  },
  {
   "cell_type": "markdown",
   "metadata": {},
   "source": [
    "f) Desvio"
   ]
  },
  {
   "cell_type": "markdown",
   "metadata": {},
   "source": [
    "Resposta: Diferença entre o valor de uma amostra com a média."
   ]
  },
  {
   "cell_type": "markdown",
   "metadata": {},
   "source": [
    "g) Correção de Bessel"
   ]
  },
  {
   "cell_type": "markdown",
   "metadata": {},
   "source": [
    "Resposta: Correção utilizada para estimar a variância ou o desvio padrão de uma população a partir de uma amostra."
   ]
  },
  {
   "cell_type": "markdown",
   "metadata": {},
   "source": [
    "h) Outlier"
   ]
  },
  {
   "cell_type": "markdown",
   "metadata": {},
   "source": [
    "Resposta: Uma amostra que possui um valor extremo em relação às outras amostras."
   ]
  },
  {
   "cell_type": "markdown",
   "metadata": {},
   "source": [
    "### Questão 2\n",
    "\n",
    "Reflita sobre as seguintes afirmações, indique se é verdadeiro ou falso e justifique:\n",
    "\n",
    "a) Se a média de um conjunto de dados é 50, podemos certamente afirmar que os dados encontram-se próximos de 50."
   ]
  },
  {
   "cell_type": "markdown",
   "metadata": {},
   "source": [
    "Resposta: Falso, podemos encontrar por exemplo um conjunto de dados que seja {0,100}. Os dois valores não são próximos de 50, mas a sua média é 50. Para determinar que os dados estão próximos da média é necessário utilizar alguma medida de dispersão."
   ]
  },
  {
   "cell_type": "markdown",
   "metadata": {},
   "source": [
    "b) A variância é a média dos desvios ao quadrado."
   ]
  },
  {
   "cell_type": "markdown",
   "metadata": {},
   "source": [
    "Resposta: Verdadeiro, podemos dizer também que a variância é a média do quadrado dos desvios."
   ]
  },
  {
   "cell_type": "markdown",
   "metadata": {},
   "source": [
    "c) Quando transformamos os dados através do z-score, a mediana dos dados transformados é sempre 0."
   ]
  },
  {
   "cell_type": "markdown",
   "metadata": {},
   "source": [
    "Resposta: Falso, quando transformamos os dados através do z-score, é a média que se torna 0. A mediana, como também a moda, será também 0 apenas se eles tiverem os mesmos valores que a média."
   ]
  },
  {
   "cell_type": "markdown",
   "metadata": {},
   "source": [
    "d) Ao analisar a correlação entre duas variáveis, se verificarmos uma correlação de 0.9, o que é considerada alta, podemos certamente afirmar que a variável dependente é a causa da variação nos valores da variável independente."
   ]
  },
  {
   "cell_type": "markdown",
   "metadata": {},
   "source": [
    "Resposta: Falso, apesar da correlação alta, a correlação não necessariamente denota a causa do fenômeno. Lembre-se do exemplo da teoria dos arcos dourados. Para testar a causa do fenômeno, é necessário realizar um experimento controlado."
   ]
  },
  {
   "cell_type": "markdown",
   "metadata": {},
   "source": [
    "### Questão 3\n",
    "\n",
    "Baixe o arquivo que se encontram neste [link](). Este arquivo contém dados de emissão de CO2 em kT (quilotonelada) emitido pelos países ao longo no período de 2000 a 2014. Desconsiderando aqueles países que apresentam valores faltantes (\"..\"), responda:\n",
    "\n",
    "a) Qual foi o país que menos emitiu CO2 ao longo destes anos?"
   ]
  },
  {
   "cell_type": "code",
   "execution_count": 2,
   "metadata": {},
   "outputs": [],
   "source": [
    "import numpy as np\n",
    "import matplotlib.pyplot as plt"
   ]
  },
  {
   "cell_type": "code",
   "execution_count": 3,
   "metadata": {},
   "outputs": [],
   "source": [
    "def medArit (listNum):\n",
    "    lenList = len(listNum)\n",
    "    soma = 0\n",
    "    for i in listNum:\n",
    "        soma += i\n",
    "    return soma/lenList\n",
    "\n",
    "def sd (listNum):\n",
    "    media = medArit(listNum)\n",
    "    somaDesvioQ = 0;\n",
    "    for i in listNum:\n",
    "        somaDesvioQ += (i - media)**2\n",
    "    desvio = (somaDesvioQ/len(listNum))**0.5\n",
    "    return desvio\n",
    "\n",
    "def cov(numList1, numList2):\n",
    "    media1 = medArit(numList1)\n",
    "    media2 = medArit(numList2)\n",
    "    n = float(len(numList1))\n",
    "    produtoDesvio = 0\n",
    "    for i in range(len(numList1)):\n",
    "        produtoDesvio += (numList1[i] - media1)*(numList2[i] - media2)\n",
    "    return produtoDesvio/n\n",
    "\n",
    "def corr(numList1, numList2):\n",
    "    covar = cov(numList1, numList2)\n",
    "    sd1 = sd(numList1)\n",
    "    sd2 = sd(numList2)\n",
    "    return covar/(sd1*sd2)\n",
    "\n",
    "def zTran(numList):\n",
    "    media1 = medArit(numList)\n",
    "    sd1 = sd(numList)\n",
    "    for i in range(len(numList)):\n",
    "        numList[i] = (numList[i]-media1)/sd1\n",
    "    return numList"
   ]
  },
  {
   "cell_type": "code",
   "execution_count": 15,
   "metadata": {},
   "outputs": [],
   "source": [
    "# Leitura do arquivo\n",
    "f = open(\"CO2_emission.txt\",\"r\")\n",
    "\n",
    "header = f.readline().rstrip()\n",
    "\n",
    "line = f.readline()\n",
    "country = {}\n",
    "while line:\n",
    "    cells = line.split(\"\\t\")\n",
    "    if (not cells[0]):\n",
    "        break\n",
    "    country[cells[2]] = []\n",
    "    for i in range(4,len(cells)):\n",
    "        if (cells[i] == '..'):\n",
    "            del country[cells[2]]\n",
    "            break\n",
    "        country[cells[2]].append(float(cells[i]))\n",
    "    if cells[2] in country:\n",
    "        country[cells[2]] = np.array(country[cells[2]])\n",
    "    line = f.readline().rstrip()\n",
    "f.close()"
   ]
  },
  {
   "cell_type": "code",
   "execution_count": 7,
   "metadata": {},
   "outputs": [
    {
     "name": "stdout",
     "output_type": "stream",
     "text": [
      "Tuvalu\n",
      "[ 7.334  7.334 11.001 11.001 11.001 11.001  7.334 11.001 11.001 11.001\n",
      "  7.334  7.334 11.001 11.001 11.001]\n"
     ]
    }
   ],
   "source": [
    "# Somando os dados\n",
    "sumCo2 = []\n",
    "countryName = []\n",
    "for i in country.keys():\n",
    "    sumCo2.append(country[i].sum())\n",
    "    countryName.append(i)\n",
    "    \n",
    "# Verificando o menor valor da soma\n",
    "sumCo2 = np.array(sumCo2)\n",
    "sortedIndex = sumCo2.argsort()\n",
    "print(countryName[sortedIndex[0]])\n",
    "print(country[countryName[sortedIndex[0]]])"
   ]
  },
  {
   "cell_type": "markdown",
   "metadata": {},
   "source": [
    "b) Qual foi o país que teve a maior média da taxa de emissão de CO2 ao longo destes anos?"
   ]
  },
  {
   "cell_type": "code",
   "execution_count": 17,
   "metadata": {},
   "outputs": [
    {
     "name": "stdout",
     "output_type": "stream",
     "text": [
      "Afghanistan\n",
      "1.1989157527600298\n"
     ]
    }
   ],
   "source": [
    "# A taxa média de cada país deve ser calculada utilizando a média geométrica.\n",
    "# Calculando a taxa média de cada país:\n",
    "taxCo2= []\n",
    "for i in country.keys():\n",
    "    taxCountry = 1\n",
    "    for j in range(1,len(country[i])):\n",
    "        taxCountry *= country[i][j]/country[i][j-1]\n",
    "    taxCo2.append(taxCountry**(1/(len(country[i])-1)))\n",
    "taxCo2 = np.array(taxCo2)\n",
    "sortedIndex = taxCo2.argsort()\n",
    "print(countryName[sortedIndex[-1]])\n",
    "print(taxCo2[sortedIndex[-1]])"
   ]
  },
  {
   "cell_type": "markdown",
   "metadata": {},
   "source": [
    "c) Quantos países conseguiram diminuir a emissão de CO2 durante este período? Em outras palavras, quantos países tiveram sua taxa média de emissão de CO2 menor que 1?"
   ]
  },
  {
   "cell_type": "code",
   "execution_count": 18,
   "metadata": {},
   "outputs": [
    {
     "name": "stdout",
     "output_type": "stream",
     "text": [
      "42\n"
     ]
    }
   ],
   "source": [
    "print(len(taxCo2[taxCo2<1]))"
   ]
  },
  {
   "cell_type": "markdown",
   "metadata": {},
   "source": [
    "d) Qual é a taxa média de emissão de CO2 do Brasil ao longo destes anos?"
   ]
  },
  {
   "cell_type": "code",
   "execution_count": 20,
   "metadata": {},
   "outputs": [
    {
     "name": "stdout",
     "output_type": "stream",
     "text": [
      "1.0348470342467841\n"
     ]
    }
   ],
   "source": [
    "taxCountry = 1\n",
    "for j in range(1,len(country[\"Brazil\"])):\n",
    "    taxCountry *= country[\"Brazil\"][j]/country[\"Brazil\"][j-1]\n",
    "taxBrazil = (taxCountry**(1/(len(country[\"Brazil\"])-1)))\n",
    "print(taxBrazil)"
   ]
  },
  {
   "cell_type": "markdown",
   "metadata": {},
   "source": [
    "e) A taxa média de emissão de CO2 entre os países segue aproximadamente uma distribuição normal como mostra o gráfico abaixo. Dos países que estamos analisando, quantos deles possuem a taxa média maior que a taxa média brasileira? "
   ]
  },
  {
   "cell_type": "code",
   "execution_count": 21,
   "metadata": {},
   "outputs": [
    {
     "data": {
      "image/png": "[encoded data removed]",
      "text/plain": [
       "<Figure size 432x288 with 1 Axes>"
      ]
     },
     "metadata": {},
     "output_type": "display_data"
    }
   ],
   "source": [
    "bins = np.linspace(taxCo2.min(),taxCo2.max(),20)\n",
    "plt.hist(taxCo2, bins, rwidth=0.9)\n",
    "plt.show()"
   ]
  },
  {
   "cell_type": "code",
   "execution_count": 11,
   "metadata": {},
   "outputs": [
    {
     "name": "stdout",
     "output_type": "stream",
     "text": [
      "79\n"
     ]
    }
   ],
   "source": [
    "print(len(taxCo2[taxCo2>taxBrazil]))"
   ]
  },
  {
   "cell_type": "markdown",
   "metadata": {},
   "source": [
    "f) A Noruega é um dos países que vem fazendo esforço para diminuir a emissão de CO2. Abaixo se encontra o gráfico que demonstra a quantidade de CO2 emitido por este país ao longo do período apresentado pelos dados. Tendo em mente este padrão de emissão de CO2 da Noruega, qual o país que possui um padrão de emissão de CO2 mais similar ao padrão da Noruega? Plote um gráfico que consiga demonstrar a semelhança dos padrões de emissão de CO2 entre os dois países."
   ]
  },
  {
   "cell_type": "code",
   "execution_count": 12,
   "metadata": {},
   "outputs": [
    {
     "data": {
      "image/png": "[encoded data removed]",
      "text/plain": [
       "<Figure size 432x288 with 1 Axes>"
      ]
     },
     "metadata": {},
     "output_type": "display_data"
    }
   ],
   "source": [
    "years = range(2000,2015)\n",
    "plt.plot(years, country[\"Norway\"])\n",
    "plt.grid()\n",
    "plt.show()"
   ]
  },
  {
   "cell_type": "code",
   "execution_count": 13,
   "metadata": {},
   "outputs": [
    {
     "data": {
      "image/png": "[encoded data removed]",
      "text/plain": [
       "<Figure size 432x288 with 1 Axes>"
      ]
     },
     "metadata": {},
     "output_type": "display_data"
    }
   ],
   "source": [
    "# para encontrar um país que tenha um padrão similar a Noruega, deve-se realizar \n",
    "# a correlação de Pearson entre os dados de Noruega com os demais países.\n",
    "\n",
    "compCountry = \"Norway\"\n",
    "corrFin = []\n",
    "countryName = []\n",
    "for i in country.keys():\n",
    "    corrFin.append(corr(country[compCountry], country[i]))\n",
    "    countryName.append(i)\n",
    "corrFin = np.array(corrFin)\n",
    "sortedIndex = corrFin.argsort()\n",
    "\n",
    "plt.plot(years, country[compCountry], label=compCountry)\n",
    "plt.plot(years, country[countryName[sortedIndex[-2]]], label=countryName[sortedIndex[-2]])\n",
    "plt.legend()\n",
    "plt.show()\n",
    "\n",
    "# Nesta análise podemos verificar que Grenada é o que possui a correlação mais alta com os dados de Noruega."
   ]
  },
  {
   "cell_type": "code",
   "execution_count": 14,
   "metadata": {},
   "outputs": [
    {
     "data": {
      "image/png": "[encoded data removed]",
      "text/plain": [
       "<Figure size 432x288 with 1 Axes>"
      ]
     },
     "metadata": {},
     "output_type": "display_data"
    }
   ],
   "source": [
    "# No entanto, ao plotar os dois gráficos de forma direta, não é possível verificar claramente\n",
    "# que os dois possuam um padrão similar. Isso se deve ao problema de escala dos valores.\n",
    "# Para comparar os padrões, podemos plotar os dados transformados pelo z-score de \n",
    "# Noruega e Grenada.\n",
    "\n",
    "plt.plot(years, zTran(country[compCountry]), label=compCountry)\n",
    "plt.plot(years, zTran(country[countryName[sortedIndex[-2]]]), label=countryName[sortedIndex[-2]])\n",
    "plt.legend()\n",
    "plt.show()"
   ]
  }
 ],
 "metadata": {
  "kernelspec": {
   "display_name": "Python 3",
   "language": "python",
   "name": "python3"
  },
  "language_info": {
   "codemirror_mode": {
    "name": "ipython",
    "version": 3
   },
   "file_extension": ".py",
   "mimetype": "text/x-python",
   "name": "python",
   "nbconvert_exporter": "python",
   "pygments_lexer": "ipython3",
   "version": "3.6.5"
  }
 },
 "nbformat": 4,
 "nbformat_minor": 2
}

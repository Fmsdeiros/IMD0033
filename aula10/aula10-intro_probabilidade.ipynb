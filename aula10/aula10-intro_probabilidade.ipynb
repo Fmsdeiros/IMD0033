{
 "cells": [
  {
   "cell_type": "markdown",
   "metadata": {},
   "source": [
    "# Probabilidade\n",
    "\n",
    "## Introdução"
   ]
  },
  {
   "cell_type": "code",
   "execution_count": 2,
   "metadata": {
    "collapsed": true
   },
   "outputs": [],
   "source": [
    "import numpy as np\n",
    "import matplotlib.pyplot as plt"
   ]
  },
  {
   "cell_type": "markdown",
   "metadata": {},
   "source": [
    "### Simulação de jogadas de moeda"
   ]
  },
  {
   "cell_type": "code",
   "execution_count": 10,
   "metadata": {},
   "outputs": [
    {
     "name": "stdout",
     "output_type": "stream",
     "text": [
      "0.500372\n"
     ]
    }
   ],
   "source": [
    "n = 1000000\n",
    "sum = 0;\n",
    "for i in range(n):\n",
    "    sum += np.random.randint(2)\n",
    "print(sum/n)"
   ]
  },
  {
   "cell_type": "markdown",
   "metadata": {
    "collapsed": true
   },
   "source": [
    "### Simulação do jogo de três cartas"
   ]
  },
  {
   "cell_type": "code",
   "execution_count": 23,
   "metadata": {},
   "outputs": [
    {
     "name": "stdout",
     "output_type": "stream",
     "text": [
      "cartas iguais: 69 cartas diferentes: 31\n"
     ]
    }
   ],
   "source": [
    "cards = [\"BB\",\"WB\",\"WW\"]\n",
    "n = 100\n",
    "same = 0\n",
    "diff = 0\n",
    "for i in range(n):\n",
    "    play = np.random.randint(3)\n",
    "    if (cards[play] == \"WB\"):\n",
    "        diff += 1\n",
    "    else:\n",
    "        same += 1\n",
    "\n",
    "print(\"cartas iguais: %d cartas diferentes: %d\" % (same, diff))"
   ]
  },
  {
   "cell_type": "code",
   "execution_count": null,
   "metadata": {
    "collapsed": true
   },
   "outputs": [],
   "source": []
  }
 ],
 "metadata": {
  "kernelspec": {
   "display_name": "Python 3",
   "language": "python",
   "name": "python3"
  },
  "language_info": {
   "codemirror_mode": {
    "name": "ipython",
    "version": 3
   },
   "file_extension": ".py",
   "mimetype": "text/x-python",
   "name": "python",
   "nbconvert_exporter": "python",
   "pygments_lexer": "ipython3",
   "version": "3.6.5"
  }
 },
 "nbformat": 4,
 "nbformat_minor": 2
}

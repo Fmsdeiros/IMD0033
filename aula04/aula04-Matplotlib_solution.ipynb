{
 "cells": [
  {
   "cell_type": "markdown",
   "metadata": {},
   "source": [
    "# Matplotlib\n",
    "\n",
    "\"Uma imagem vale mais do que 1000 palavras\"\n",
    "\n",
    "A visualização de dados é uma área da ciência da computação que têm sido muito requisitada frente ao Big Data. Isto se dá devido a facilidade que o cérebro humano possui de processar uma figura, seja imagens ou gráficos, em relação aos dados textuais, como tabela.\n",
    "\n",
    "Neste notebook, exploraremos algumas funções do Matplotlib, um módulo do Python dedicado para geração de gráficos em 2D.\n",
    "\n",
    "A escolha desta biblioteca se dá pelo seu amplo uso dentro da comunidade de desenvolvedores em Python. A sua popularidade reflete no seu uso como base de outras bibliotecas de geração de imagem, como o Seaborn.\n",
    "\n",
    "Esta biblioteca vem junto com o pacote Anaconda. Se você não utiliza o Anaconda, ele pode ser instalado usando o seguinte comando:\n",
    "\n",
    "```\n",
    "python -mpip install -U matplotlib\n",
    "```\n",
    "\n",
    "Mais informação no site oficial: https://matplotlib.org/\n",
    "\n",
    "## Importando a biblioteca"
   ]
  },
  {
   "cell_type": "code",
   "execution_count": null,
   "metadata": {},
   "outputs": [],
   "source": [
    "import matplotlib.pyplot as plt\n",
    "import numpy as np"
   ]
  },
  {
   "cell_type": "markdown",
   "metadata": {},
   "source": [
    "## Gerando um gráfico de linha simples"
   ]
  },
  {
   "cell_type": "code",
   "execution_count": null,
   "metadata": {},
   "outputs": [],
   "source": [
    "x = [1,2,3] # valores do eixo X\n",
    "y = [1,4,9] # valores do eixo Y\n",
    "plt.plot(x,y, label=\"y\")\n",
    "plt.title(\"teste\")\n",
    "plt.xlabel(\"x\")\n",
    "plt.ylabel(\"y\")\n",
    "plt.legend()\n",
    "plt.grid()\n",
    "plt.show()"
   ]
  },
  {
   "cell_type": "markdown",
   "metadata": {},
   "source": [
    "## Gerando um gráfico com múltiplas linhas"
   ]
  },
  {
   "cell_type": "code",
   "execution_count": null,
   "metadata": {},
   "outputs": [],
   "source": [
    "x = [1,2,3]\n",
    "y = [1,4,9]\n",
    "z = [5,3,5]\n",
    "plt.plot(x,y, label=\"y\")\n",
    "plt.plot(x,z, label=\"z\")\n",
    "plt.title(\"teste\")\n",
    "plt.xlabel(\"x\")\n",
    "plt.ylabel(\"y e z\")\n",
    "plt.legend()\n",
    "plt.grid()\n",
    "plt.show()"
   ]
  },
  {
   "cell_type": "markdown",
   "metadata": {},
   "source": [
    "## Customizando o gráfico\n",
    "Mais informações [aqui](https://matplotlib.org/2.2.2/api/_as_gen/matplotlib.pyplot.plot.html):"
   ]
  },
  {
   "cell_type": "code",
   "execution_count": null,
   "metadata": {
    "scrolled": false
   },
   "outputs": [],
   "source": [
    "x = [1,2,3]\n",
    "y = [1,4,9]\n",
    "z = [5,3,5]\n",
    "plt.plot(x,y, 'r--o', label=\"y\")\n",
    "plt.plot(x,z, 'd-.g', label=\"z\")\n",
    "plt.title(\"teste\")\n",
    "plt.xlabel(\"x\")\n",
    "plt.ylabel(\"y e z\")\n",
    "plt.legend()\n",
    "plt.show()"
   ]
  },
  {
   "cell_type": "code",
   "execution_count": null,
   "metadata": {},
   "outputs": [],
   "source": [
    "x = [1,2,3]\n",
    "y = [1,4,9]\n",
    "z = [5,3,5]\n",
    "plt.plot(x,y, color=\"red\", linestyle=\"--\", marker=\"o\", label=\"y\")\n",
    "plt.plot(x,z, marker=\"d\", linestyle=\"-.\", color=\"green\", label=\"z\")\n",
    "plt.title(\"teste\")\n",
    "plt.xlabel(\"x\")\n",
    "plt.ylabel(\"y e z\")\n",
    "plt.legend()\n",
    "plt.show()"
   ]
  },
  {
   "cell_type": "markdown",
   "metadata": {},
   "source": [
    "## Gráfico de barras\n",
    "Mais informação [aqui](https://matplotlib.org/2.2.2/api/_as_gen/matplotlib.pyplot.bar.html)."
   ]
  },
  {
   "cell_type": "code",
   "execution_count": null,
   "metadata": {
    "scrolled": true
   },
   "outputs": [],
   "source": [
    "x = np.array([1,2,3,4,5])\n",
    "y = [4,6,2,7,5]\n",
    "plt.bar(x, y, label='bar1')\n",
    "plt.xlabel(\"x\")\n",
    "plt.ylabel(\"y\")\n",
    "plt.title(\"bar test\")\n",
    "plt.legend()\n",
    "plt.show()"
   ]
  },
  {
   "cell_type": "code",
   "execution_count": null,
   "metadata": {},
   "outputs": [],
   "source": [
    "labels = [\"segunda\", \"terça\", \"quarta\", \"quinta\", \"sexta\"]\n",
    "y = [4,6,2,7,5]\n",
    "plt.bar(labels, y, label='bar1')\n",
    "plt.xlabel(\"x\")\n",
    "plt.ylabel(\"y\")\n",
    "plt.title(\"bar test\")\n",
    "plt.legend()\n",
    "plt.show()"
   ]
  },
  {
   "cell_type": "markdown",
   "metadata": {},
   "source": [
    "# Gráfico de barras com dois conjuntos de dados"
   ]
  },
  {
   "cell_type": "code",
   "execution_count": null,
   "metadata": {
    "scrolled": false
   },
   "outputs": [],
   "source": [
    "x = np.array([1,2,3,4,5])\n",
    "y = [4,6,2,7,5]\n",
    "z = [5,8,3,5,4]\n",
    "plt.bar(x*2, y, label='bar1')\n",
    "plt.bar(x*2+0.8, z, label='bar2', color=\"g\")\n",
    "plt.xlabel(\"x\")\n",
    "plt.ylabel(\"y\")\n",
    "plt.title(\"bar test\")\n",
    "plt.legend()\n",
    "plt.show()"
   ]
  },
  {
   "cell_type": "markdown",
   "metadata": {},
   "source": [
    "## Histogramas\n",
    "Mais informação [aqui](https://matplotlib.org/2.2.2/api/_as_gen/matplotlib.pyplot.hist.html)"
   ]
  },
  {
   "cell_type": "code",
   "execution_count": null,
   "metadata": {},
   "outputs": [],
   "source": [
    "x = np.array([1,3,5,1,1,1,2,3,4,5,3,4,3,4,5,3,3,4,2,3,4,5,4,3,4,4,3,3,3,5,5])\n",
    "bins = np.arange(1,7)\n",
    "plt.hist(x, bins, rwidth=0.9) \n",
    "plt.show()"
   ]
  },
  {
   "cell_type": "markdown",
   "metadata": {},
   "source": [
    "Exemplo com simulação de jogadas de dado:"
   ]
  },
  {
   "cell_type": "code",
   "execution_count": null,
   "metadata": {},
   "outputs": [],
   "source": [
    "dice = np.random.randint(1,7,10) # simula jogada de dados\n",
    "bins = [1,2,3,4,5,6,7]\n",
    "\n",
    "plt.hist(dice, bins, rwidth= 0.9)\n",
    "plt.show()"
   ]
  },
  {
   "cell_type": "markdown",
   "metadata": {},
   "source": [
    "## Exercícios\n",
    "\n",
    "### Questão 1\n",
    "O arquivo [japan_birth.tab]() contém dados de quantos bebês nasceram no Japão em cada mês ao longo dos anos. A descrição de cada coluna se encontra a seguir:\n",
    "1. ano\n",
    "2. mês\n",
    "3. número de nascimento\n",
    "\n",
    "A partir destes dados, plote um gráfico que permita você consiguir verificar se existe algum mês que nascem mais bebês no Japão."
   ]
  },
  {
   "cell_type": "code",
   "execution_count": null,
   "metadata": {},
   "outputs": [],
   "source": [
    "# Crie o seu código aqui:\n",
    "import matplotlib.pyplot as plt\n",
    "import numpy as np\n",
    "\n",
    "f = open(\"japan_birth.tab\", \"r\")\n",
    "discardFirst = f.readline()\n",
    "data = f.read()\n",
    "data = data.split(\"\\n\")\n",
    "store = {}\n",
    "ord_year = []\n",
    "\n",
    "for i in range(len(data)):\n",
    "    row = data[i]\n",
    "    year, month, birth = row.split(\"\\t\")\n",
    "    if year not in store:\n",
    "        store[year] = list(range(12))\n",
    "        ord_year.append(year)\n",
    "    store[year][int(month) - 1] = int(birth)\n",
    "\n",
    "x = np.arange(1,13)\n",
    "\n",
    "for year in ord_year:\n",
    "    plt.plot(x,store[year], label=year)\n",
    "\n",
    "plt.legend(ncol=2)\n",
    "plt.show()\n"
   ]
  },
  {
   "cell_type": "markdown",
   "metadata": {},
   "source": [
    "### Questão 2\n",
    "Na aula 2, calculamos a média e desvio padrão de várias medidas de células do tumor de câncer considerados benignos (B) ou malignos (M). Construa um gráfico de barras onde você consiga comparar as médias das diferentes medidas do dois tipos de tumor. Quais destes parâmetros pode ser determinante para distinguir entre tumores benignos e malignos?"
   ]
  },
  {
   "cell_type": "code",
   "execution_count": null,
   "metadata": {},
   "outputs": [],
   "source": [
    "# Crie o seu código aqui:\n",
    "result = '''column\tM mean\tM sd\tB mean\tB sd\n",
    "col1\t17.46\t3.20\t12.15\t1.78\n",
    "col2\t21.60\t3.78\t17.91\t4.00\n",
    "col3\t115.37\t21.85\t78.08\t11.81\n",
    "col5\t0.10\t0.01\t0.09\t0.01\n",
    "col6\t0.15\t0.05\t0.08\t0.03\n",
    "col7\t0.16\t0.08\t0.05\t0.04\n",
    "col8\t0.09\t0.03\t0.03\t0.02\n",
    "col9\t0.19\t0.03\t0.17\t0.02\n",
    "col10\t0.06\t0.01\t0.06\t0.01\n",
    "col11\t0.61\t0.35\t0.28\t0.11\n",
    "col12\t1.21\t0.48\t1.22\t0.59\n",
    "col13\t4.32\t2.57\t2.00\t0.77\n",
    "col14\t72.67\t61.36\t21.14\t8.84\n",
    "col15\t0.01\t0.00\t0.01\t0.00\n",
    "col16\t0.03\t0.02\t0.02\t0.02\n",
    "col17\t0.04\t0.02\t0.03\t0.03\n",
    "col18\t0.02\t0.01\t0.01\t0.01\n",
    "col19\t0.02\t0.01\t0.02\t0.01\n",
    "col20\t0.00\t0.00\t0.00\t0.00\n",
    "col21\t21.13\t4.28\t13.38\t1.98\n",
    "col22\t29.32\t5.43\t23.52\t5.49\n",
    "col23\t141.37\t29.46\t87.01\t13.53\n",
    "col25\t0.14\t0.02\t0.12\t0.02\n",
    "col26\t0.37\t0.17\t0.18\t0.09\n",
    "col27\t0.45\t0.18\t0.17\t0.14\n",
    "col28\t0.18\t0.05\t0.07\t0.04\n",
    "col29\t0.32\t0.07\t0.27\t0.04\n",
    "col30\t0.09\t0.02\t0.08\t0.01'''\n",
    "\n",
    "data = result.split(\"\\n\")\n",
    "xlabel = []\n",
    "meanB = []\n",
    "sdB = []\n",
    "meanM = []\n",
    "sdM = []\n",
    "\n",
    "for i in range(1,len(data)):\n",
    "    row = data[i]\n",
    "    cells = row.split(\"\\t\")\n",
    "    xlabel.append(cells[0])\n",
    "    meanM.append(float(cells[1]))\n",
    "    sdM.append(float(cells[2]))\n",
    "    meanB.append(float(cells[3]))\n",
    "    sdB.append(float(cells[4]))\n",
    "    \n",
    "x = np.arange(len(xlabel))\n",
    "\n",
    "plt.bar(x*2,meanB, label=\"benigno\")\n",
    "plt.bar(x*2+0.8,meanM, label=\"maligno\")\n",
    "plt.xticks(x*2+0.4,xlabel, rotation=60) # recebe a posição da barrinha e o label das barrinhas\n",
    "plt.legend()\n",
    "plt.show()\n"
   ]
  },
  {
   "cell_type": "markdown",
   "metadata": {},
   "source": [
    "**Extra**: Tente adicione a barra do desvio padrão em cada uma das barras. Consulte este [site](https://pythonforundergradengineers.com/python-matplotlib-error-bars.html)"
   ]
  },
  {
   "cell_type": "code",
   "execution_count": null,
   "metadata": {},
   "outputs": [],
   "source": [
    "# Crie o seu código aqui:\n",
    "x = np.arange(len(xlabel))\n",
    "\n",
    "plt.bar(x*2,meanB, yerr=sdB, label=\"benigno\")\n",
    "plt.bar(x*2+0.8,meanM, yerr=sdM, label=\"maligno\")\n",
    "plt.xticks(x*2+0.4,xlabel, rotation=60) # recebe a posição da barrinha e o label das barrinhas\n",
    "plt.legend()\n",
    "plt.show()\n",
    "\n"
   ]
  },
  {
   "cell_type": "markdown",
   "metadata": {},
   "source": [
    "### Questão 3 \n",
    "Crie um programa que simule jogadas de dois dados de 6 lados. Simule 1000 jogadas de dado e construa um histograma que ilustre o número de vezes que cada valor somado dos dados apareceu na simulação."
   ]
  },
  {
   "cell_type": "code",
   "execution_count": null,
   "metadata": {},
   "outputs": [],
   "source": [
    "# Crie o seu código aqui:\n",
    "dice1 = np.random.randint(1,7,1000)\n",
    "dice2 = np.random.randint(1,7,1000)\n",
    "diceSum = dice1+dice2\n",
    "bins = range(1,14)\n",
    "\n",
    "plt.hist(diceSum, bins, rwidth=0.9)\n",
    "plt.show()\n"
   ]
  },
  {
   "cell_type": "code",
   "execution_count": null,
   "metadata": {},
   "outputs": [],
   "source": []
  }
 ],
 "metadata": {
  "kernelspec": {
   "display_name": "Python 3",
   "language": "python",
   "name": "python3"
  },
  "language_info": {
   "codemirror_mode": {
    "name": "ipython",
    "version": 3
   },
   "file_extension": ".py",
   "mimetype": "text/x-python",
   "name": "python",
   "nbconvert_exporter": "python",
   "pygments_lexer": "ipython3",
   "version": "3.6.5"
  }
 },
 "nbformat": 4,
 "nbformat_minor": 2
}
